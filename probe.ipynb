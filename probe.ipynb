{
  "nbformat": 4,
  "nbformat_minor": 0,
  "metadata": {
    "colab": {
      "name": "EDA.ipynb",
      "provenance": [],
      "collapsed_sections": []
    },
    "kernelspec": {
      "name": "python3",
      "display_name": "Python 3"
    },
    "language_info": {
      "name": "python"
    }
  },
  "cells": [
    {
      "cell_type": "code",
      "metadata": {
        "id": "WgkFb4kAt6cE"
      },
      "source": [
        "import numpy as np\n",
        "import pandas as pd\n",
        "\n",
        "import matplotlib.pyplot as plt\n",
        "import seaborn as sns\n"
      ],
      "execution_count": 1,
      "outputs": []
    },
    {
      "cell_type": "code",
      "metadata": {
        "colab": {
          "base_uri": "https://localhost:8080/"
        },
        "id": "xEKEN0Ni2YC7",
        "outputId": "8c3c2154-e7a1-480e-b352-0d17dce030f6"
      },
      "source": [
        "# Colab 進行matplotlib繪圖時顯示繁體中文\n",
        "# 下載台北思源黑體並命名taipei_sans_tc_beta.ttf，移至指定路徑\n",
        "!wget -O taipei_sans_tc_beta.ttf https://drive.google.com/uc?id=1eGAsTN1HBpJAkeVM57_C7ccp7hbgSz3_&export=download\n",
        "!mv taipei_sans_tc_beta.ttf /usr/local/lib/python3.7/dist-packages/matplotlib//mpl-data/fonts/ttf\n",
        "\n",
        "from matplotlib.font_manager import FontProperties\n",
        "import matplotlib.pyplot as plt \n",
        "\n",
        "# 自定義字體變數\n",
        "myfont = FontProperties(fname=r'/usr/local/lib/python3.7/dist-packages/matplotlib/mpl-data/fonts/ttf/taipei_sans_tc_beta.ttf')\n",
        "\n",
        "# !!!!後續在相關函式中增加fontproperties=myfont屬性即可!!!!"
      ],
      "execution_count": 2,
      "outputs": [
        {
          "output_type": "stream",
          "text": [
            "--2021-06-26 17:03:51--  https://drive.google.com/uc?id=1eGAsTN1HBpJAkeVM57_C7ccp7hbgSz3_\n",
            "Resolving drive.google.com (drive.google.com)... 172.217.3.14, 2607:f8b0:4026:800::200e\n",
            "Connecting to drive.google.com (drive.google.com)|172.217.3.14|:443... connected.\n",
            "HTTP request sent, awaiting response... 302 Moved Temporarily\n",
            "Location: https://doc-0k-9o-docs.googleusercontent.com/docs/securesc/ha0ro937gcuc7l7deffksulhg5h7mbp1/uln783ugd06bptse0fu5oavt9rl63j49/1624727025000/02847987870453524430/*/1eGAsTN1HBpJAkeVM57_C7ccp7hbgSz3_ [following]\n",
            "Warning: wildcards not supported in HTTP.\n",
            "--2021-06-26 17:03:51--  https://doc-0k-9o-docs.googleusercontent.com/docs/securesc/ha0ro937gcuc7l7deffksulhg5h7mbp1/uln783ugd06bptse0fu5oavt9rl63j49/1624727025000/02847987870453524430/*/1eGAsTN1HBpJAkeVM57_C7ccp7hbgSz3_\n",
            "Resolving doc-0k-9o-docs.googleusercontent.com (doc-0k-9o-docs.googleusercontent.com)... 142.250.141.132, 2607:f8b0:4023:c0b::84\n",
            "Connecting to doc-0k-9o-docs.googleusercontent.com (doc-0k-9o-docs.googleusercontent.com)|142.250.141.132|:443... connected.\n",
            "HTTP request sent, awaiting response... 200 OK\n",
            "Length: unspecified [application/x-font-ttf]\n",
            "Saving to: ‘taipei_sans_tc_beta.ttf’\n",
            "\n",
            "taipei_sans_tc_beta     [    <=>             ]  19.70M  23.3MB/s    in 0.8s    \n",
            "\n",
            "2021-06-26 17:03:53 (23.3 MB/s) - ‘taipei_sans_tc_beta.ttf’ saved [20659344]\n",
            "\n"
          ],
          "name": "stdout"
        }
      ]
    },
    {
      "cell_type": "code",
      "metadata": {
        "id": "gMvuTlVTvmi5"
      },
      "source": [
        "df = pd.read_csv('問卷調查.csv')"
      ],
      "execution_count": 3,
      "outputs": []
    },
    {
      "cell_type": "code",
      "metadata": {
        "id": "dLFrdY9rwMOP",
        "colab": {
          "base_uri": "https://localhost:8080/",
          "height": 1000
        },
        "outputId": "86d5615f-ea26-4ff8-e2c4-2987f8a6a8d5"
      },
      "source": [
        "df.head()"
      ],
      "execution_count": 4,
      "outputs": [
        {
          "output_type": "execute_result",
          "data": {
            "text/html": [
              "<div>\n",
              "<style scoped>\n",
              "    .dataframe tbody tr th:only-of-type {\n",
              "        vertical-align: middle;\n",
              "    }\n",
              "\n",
              "    .dataframe tbody tr th {\n",
              "        vertical-align: top;\n",
              "    }\n",
              "\n",
              "    .dataframe thead th {\n",
              "        text-align: right;\n",
              "    }\n",
              "</style>\n",
              "<table border=\"1\" class=\"dataframe\">\n",
              "  <thead>\n",
              "    <tr style=\"text-align: right;\">\n",
              "      <th></th>\n",
              "      <th>1. 請問您的年紀是?</th>\n",
              "      <th>2. 請問您的性別是?</th>\n",
              "      <th>3. 請問您平均一天會花多久時間在影音頻道或社群媒體上(如：YouTube、Twitch、Facebook、Instagram等等)?</th>\n",
              "      <th>4. 請問您在瀏覽或收看影音影片時，會有固定瀏覽/收看的網紅或頻道主嗎?</th>\n",
              "      <th>5. 若以YouTube為主，並將影片分類為生活、搞笑、美食、插畫、遊戲、美妝、知識、其他共八類，您認為您最常收看的頻道屬於哪一類?</th>\n",
              "      <th>6. 請問您最常收看的種類之頻道主是否經常接拍業配影片?</th>\n",
              "      <th>7. 您認為在您喜歡的YouTuber頻道上出現業配影片，會有什麼樣的感受?</th>\n",
              "      <th>8. 若無論是否為您喜歡的YouTuber影片，您認為某產品廠商請YouTuber拍業配影片是助於商品的銷售或行銷的嗎?</th>\n",
              "      <th>9. 若無論是否為您喜歡的YouTuber影片 ，您認為對觀看者而言，對某接拍業配影片的YouTuber的喜好程度與其宣傳效益或商品銷售量是成正比的嗎?</th>\n",
              "      <th>10. 若一YouTube影片為業配影片，您認為對於拍攝此影片的YouTuber的名氣大小(以點閱數來看)與其宣傳效益或商品銷售量是否成正比?</th>\n",
              "      <th>11. 您認為對於拍攝某業配影片的YouTuber其影片風格定位與其商品的類型相符或接近，會使宣傳效益或商品銷售量提高嗎? (以下為正反兩例：一美妝YouTuber拍攝美妝品業配；一美妝YouTuber拍攝某款手遊業配)</th>\n",
              "      <th>1. 假如今天如果您要買一化妝品給自己、朋友或女朋友，請問你會如何挑選?</th>\n",
              "      <th>A. 您在YouTube上面看到美妝影片封面(含標題)，怎麼樣的封面(含標題)會吸引你點擊觀看 [封面好看]</th>\n",
              "      <th>A. 您在YouTube上面看到美妝影片封面(含標題)，怎麼樣的封面(含標題)會吸引你點擊觀看 [醒目簡潔有力]</th>\n",
              "      <th>A. 您在YouTube上面看到美妝影片封面(含標題)，怎麼樣的封面(含標題)會吸引你點擊觀看 [包含目標產品]</th>\n",
              "      <th>A. 您在YouTube上面看到美妝影片封面(含標題)，怎麼樣的封面(含標題)會吸引你點擊觀看 [包含產品功能]</th>\n",
              "      <th>B. 在美妝YouTuber的介紹影片中，您最重視什麼? [實用性]</th>\n",
              "      <th>B. 在美妝YouTuber的介紹影片中，您最重視什麼? [專業性]</th>\n",
              "      <th>B. 在美妝YouTuber的介紹影片中，您最重視什麼? [有趣程度]</th>\n",
              "      <th>B. 在美妝YouTuber的介紹影片中，您最重視什麼? [節奏恰當不冗長]</th>\n",
              "      <th>B. 在美妝YouTuber的介紹影片中，您最重視什麼? [對此YouTuber的喜愛程度]</th>\n",
              "      <th>B. 在美妝YouTuber的介紹影片中，您最重視什麼? [觀看人數]</th>\n",
              "      <th>B. 在美妝YouTuber的介紹影片中，您最重視什麼? [影片留言之評價]</th>\n",
              "      <th>3. 對於美妝YOUTUBER本身個人特質而言，您最重視什麼? [介紹專業度]</th>\n",
              "      <th>3. 對於美妝YOUTUBER本身個人特質而言，您最重視什麼? [個人個性風格]</th>\n",
              "      <th>3. 對於美妝YOUTUBER本身個人特質而言，您最重視什麼? [講話有趣程度]</th>\n",
              "      <th>3. 對於美妝YOUTUBER本身個人特質而言，您最重視什麼? [長相]</th>\n",
              "      <th>3. 對於美妝YOUTUBER本身個人特質而言，您最重視什麼? [頻道點閱人數]</th>\n",
              "      <th>4. 如果上述條件滿足了，您會因為美妝YOUTUBER的介紹而去購買?</th>\n",
              "    </tr>\n",
              "  </thead>\n",
              "  <tbody>\n",
              "    <tr>\n",
              "      <th>0</th>\n",
              "      <td>19-22歲</td>\n",
              "      <td>生理男</td>\n",
              "      <td>約三至五小時</td>\n",
              "      <td>有時會有</td>\n",
              "      <td>搞笑</td>\n",
              "      <td>時常，約10支影片以上一支</td>\n",
              "      <td>喜歡或可接受</td>\n",
              "      <td>完全認同</td>\n",
              "      <td>是</td>\n",
              "      <td>完全符合</td>\n",
              "      <td>可能</td>\n",
              "      <td>聽取朋友的建議</td>\n",
              "      <td>5</td>\n",
              "      <td>5</td>\n",
              "      <td>3</td>\n",
              "      <td>4</td>\n",
              "      <td>5</td>\n",
              "      <td>5</td>\n",
              "      <td>5</td>\n",
              "      <td>5</td>\n",
              "      <td>5</td>\n",
              "      <td>3</td>\n",
              "      <td>4</td>\n",
              "      <td>5</td>\n",
              "      <td>5</td>\n",
              "      <td>5</td>\n",
              "      <td>5</td>\n",
              "      <td>3</td>\n",
              "      <td>是</td>\n",
              "    </tr>\n",
              "    <tr>\n",
              "      <th>1</th>\n",
              "      <td>19-22歲</td>\n",
              "      <td>生理男</td>\n",
              "      <td>約五到七小時</td>\n",
              "      <td>有時會有</td>\n",
              "      <td>搞笑</td>\n",
              "      <td>時常，約5支影片以上一支</td>\n",
              "      <td>無感</td>\n",
              "      <td>認同</td>\n",
              "      <td>一定是</td>\n",
              "      <td>完全符合</td>\n",
              "      <td>不太可能</td>\n",
              "      <td>看美妝YouTuber影片作參考</td>\n",
              "      <td>5</td>\n",
              "      <td>5</td>\n",
              "      <td>5</td>\n",
              "      <td>5</td>\n",
              "      <td>3</td>\n",
              "      <td>5</td>\n",
              "      <td>2</td>\n",
              "      <td>2</td>\n",
              "      <td>3</td>\n",
              "      <td>5</td>\n",
              "      <td>5</td>\n",
              "      <td>5</td>\n",
              "      <td>5</td>\n",
              "      <td>5</td>\n",
              "      <td>5</td>\n",
              "      <td>5</td>\n",
              "      <td>是</td>\n",
              "    </tr>\n",
              "    <tr>\n",
              "      <th>2</th>\n",
              "      <td>30-40歲</td>\n",
              "      <td>生理男</td>\n",
              "      <td>約七小時以上</td>\n",
              "      <td>幾乎沒有</td>\n",
              "      <td>其他</td>\n",
              "      <td>幾乎每次，約1支影片以上一支</td>\n",
              "      <td>無感</td>\n",
              "      <td>沒意見</td>\n",
              "      <td>沒意見</td>\n",
              "      <td>普通</td>\n",
              "      <td>沒想法</td>\n",
              "      <td>不做任何參考，直接在某通路購買</td>\n",
              "      <td>3</td>\n",
              "      <td>3</td>\n",
              "      <td>3</td>\n",
              "      <td>3</td>\n",
              "      <td>3</td>\n",
              "      <td>3</td>\n",
              "      <td>3</td>\n",
              "      <td>3</td>\n",
              "      <td>3</td>\n",
              "      <td>3</td>\n",
              "      <td>3</td>\n",
              "      <td>3</td>\n",
              "      <td>3</td>\n",
              "      <td>3</td>\n",
              "      <td>5</td>\n",
              "      <td>3</td>\n",
              "      <td>否</td>\n",
              "    </tr>\n",
              "    <tr>\n",
              "      <th>3</th>\n",
              "      <td>19-22歲</td>\n",
              "      <td>生理男</td>\n",
              "      <td>約一至三小時</td>\n",
              "      <td>幾乎每次都有</td>\n",
              "      <td>其他</td>\n",
              "      <td>幾乎每次，約1支影片以上一支</td>\n",
              "      <td>無感</td>\n",
              "      <td>認同</td>\n",
              "      <td>不是</td>\n",
              "      <td>不符合</td>\n",
              "      <td>可能</td>\n",
              "      <td>直接到開價美妝店或專櫃詢問櫃姐的建議並購買</td>\n",
              "      <td>3</td>\n",
              "      <td>4</td>\n",
              "      <td>5</td>\n",
              "      <td>5</td>\n",
              "      <td>5</td>\n",
              "      <td>5</td>\n",
              "      <td>4</td>\n",
              "      <td>4</td>\n",
              "      <td>2</td>\n",
              "      <td>3</td>\n",
              "      <td>3</td>\n",
              "      <td>5</td>\n",
              "      <td>4</td>\n",
              "      <td>3</td>\n",
              "      <td>2</td>\n",
              "      <td>2</td>\n",
              "      <td>是</td>\n",
              "    </tr>\n",
              "    <tr>\n",
              "      <th>4</th>\n",
              "      <td>19-22歲</td>\n",
              "      <td>生理女</td>\n",
              "      <td>約三至五小時</td>\n",
              "      <td>每次都有</td>\n",
              "      <td>搞笑</td>\n",
              "      <td>時常，約5支影片以上一支</td>\n",
              "      <td>喜歡或可接受</td>\n",
              "      <td>認同</td>\n",
              "      <td>是</td>\n",
              "      <td>符合</td>\n",
              "      <td>極有可能</td>\n",
              "      <td>到網路上的論壇爬文</td>\n",
              "      <td>5</td>\n",
              "      <td>5</td>\n",
              "      <td>5</td>\n",
              "      <td>5</td>\n",
              "      <td>5</td>\n",
              "      <td>4</td>\n",
              "      <td>5</td>\n",
              "      <td>5</td>\n",
              "      <td>5</td>\n",
              "      <td>4</td>\n",
              "      <td>5</td>\n",
              "      <td>5</td>\n",
              "      <td>5</td>\n",
              "      <td>5</td>\n",
              "      <td>5</td>\n",
              "      <td>3</td>\n",
              "      <td>是</td>\n",
              "    </tr>\n",
              "  </tbody>\n",
              "</table>\n",
              "</div>"
            ],
            "text/plain": [
              "  1. 請問您的年紀是?  ... 4. 如果上述條件滿足了，您會因為美妝YOUTUBER的介紹而去購買?\n",
              "0      19-22歲  ...                                   是\n",
              "1      19-22歲  ...                                   是\n",
              "2      30-40歲  ...                                   否\n",
              "3      19-22歲  ...                                   是\n",
              "4      19-22歲  ...                                   是\n",
              "\n",
              "[5 rows x 29 columns]"
            ]
          },
          "metadata": {
            "tags": []
          },
          "execution_count": 4
        }
      ]
    },
    {
      "cell_type": "code",
      "metadata": {
        "id": "CIDYrKlfQ8G3",
        "colab": {
          "base_uri": "https://localhost:8080/"
        },
        "outputId": "c370bf12-f115-4770-fa27-7ee409a37f43"
      },
      "source": [
        "df['1. 請問您的年紀是?'].value_counts()"
      ],
      "execution_count": 5,
      "outputs": [
        {
          "output_type": "execute_result",
          "data": {
            "text/plain": [
              "19-22歲    171\n",
              "22-30歲     34\n",
              "16-18歲     19\n",
              "30-40歲      6\n",
              "12-15歲      5\n",
              "Name: 1. 請問您的年紀是?, dtype: int64"
            ]
          },
          "metadata": {
            "tags": []
          },
          "execution_count": 5
        }
      ]
    },
    {
      "cell_type": "code",
      "metadata": {
        "colab": {
          "base_uri": "https://localhost:8080/",
          "height": 324
        },
        "id": "VJ2C8Px3HahG",
        "outputId": "b76fe82d-89ae-405b-acb3-fe950af26537"
      },
      "source": [
        "x_df = pd.DataFrame()\n",
        "x_df = df['1. 請問您的年紀是?'].value_counts()\n",
        "\n",
        "x_df.plot.bar(title = 'age')\n",
        "plt.ylabel(\"數量\",fontproperties=myfont)\n",
        "plt.xticks(fontsize=20,fontproperties=myfont)"
      ],
      "execution_count": 17,
      "outputs": [
        {
          "output_type": "execute_result",
          "data": {
            "text/plain": [
              "(array([0, 1, 2, 3, 4]), <a list of 5 Text major ticklabel objects>)"
            ]
          },
          "metadata": {
            "tags": []
          },
          "execution_count": 17
        },
        {
          "output_type": "display_data",
          "data": {
            "image/png": "[encoded data removed]",
            "text/plain": [
              "<Figure size 432x288 with 1 Axes>"
            ]
          },
          "metadata": {
            "tags": [],
            "needs_background": "light"
          }
        }
      ]
    },
    {
      "cell_type": "code",
      "metadata": {
        "colab": {
          "base_uri": "https://localhost:8080/"
        },
        "id": "C4m_8Fv_SBTi",
        "outputId": "d30784f6-0f0f-42bc-ac91-f0d1ff5ca124"
      },
      "source": [
        "x_df"
      ],
      "execution_count": 21,
      "outputs": [
        {
          "output_type": "execute_result",
          "data": {
            "text/plain": [
              "19-22歲    171\n",
              "22-30歲     34\n",
              "16-18歲     19\n",
              "30-40歲      6\n",
              "12-15歲      5\n",
              "Name: 1. 請問您的年紀是?, dtype: int64"
            ]
          },
          "metadata": {
            "tags": []
          },
          "execution_count": 21
        }
      ]
    },
    {
      "cell_type": "code",
      "metadata": {
        "colab": {
          "base_uri": "https://localhost:8080/",
          "height": 318
        },
        "id": "kPqp6na6Hyue",
        "outputId": "831ffd63-8aa2-473d-9770-bbdf6bfba8d1"
      },
      "source": [
        "x_df = pd.DataFrame()\n",
        "x_df = df['2. 請問您的性別是?'].value_counts()\n",
        "\n",
        "x_df.plot.bar(title = 'gender')\n",
        "plt.ylabel(\"數量\",fontproperties=myfont)\n",
        "plt.xticks(fontsize=20,fontproperties=myfont)"
      ],
      "execution_count": 22,
      "outputs": [
        {
          "output_type": "execute_result",
          "data": {
            "text/plain": [
              "(array([0, 1]), <a list of 2 Text major ticklabel objects>)"
            ]
          },
          "metadata": {
            "tags": []
          },
          "execution_count": 22
        },
        {
          "output_type": "display_data",
          "data": {
            "image/png": "[encoded data removed]",
            "text/plain": [
              "<Figure size 432x288 with 1 Axes>"
            ]
          },
          "metadata": {
            "tags": [],
            "needs_background": "light"
          }
        }
      ]
    },
    {
      "cell_type": "code",
      "metadata": {
        "colab": {
          "base_uri": "https://localhost:8080/"
        },
        "id": "Du6MfOffSVVD",
        "outputId": "b3dea0aa-0210-4963-81a5-06b770af1d58"
      },
      "source": [
        "x_df"
      ],
      "execution_count": 23,
      "outputs": [
        {
          "output_type": "execute_result",
          "data": {
            "text/plain": [
              "生理女    147\n",
              "生理男     88\n",
              "Name: 2. 請問您的性別是?, dtype: int64"
            ]
          },
          "metadata": {
            "tags": []
          },
          "execution_count": 23
        }
      ]
    },
    {
      "cell_type": "code",
      "metadata": {
        "colab": {
          "base_uri": "https://localhost:8080/",
          "height": 348
        },
        "id": "obn1mUo2IMw0",
        "outputId": "22d30005-0ac3-45ed-8315-ceee80d51413"
      },
      "source": [
        "x_df = pd.DataFrame()\n",
        "x_df = df['3. 請問您平均一天會花多久時間在影音頻道或社群媒體上(如：YouTube、Twitch、Facebook、Instagram等等)?'].value_counts()\n",
        "\n",
        "x_df.plot.bar(title = 'time')\n",
        "plt.ylabel(\"數量\",fontproperties=myfont)\n",
        "plt.xticks(fontsize=20,fontproperties=myfont)"
      ],
      "execution_count": 24,
      "outputs": [
        {
          "output_type": "execute_result",
          "data": {
            "text/plain": [
              "(array([0, 1, 2, 3, 4]), <a list of 5 Text major ticklabel objects>)"
            ]
          },
          "metadata": {
            "tags": []
          },
          "execution_count": 24
        },
        {
          "output_type": "display_data",
          "data": {
            "image/png": "[encoded data removed]",
            "text/plain": [
              "<Figure size 432x288 with 1 Axes>"
            ]
          },
          "metadata": {
            "tags": [],
            "needs_background": "light"
          }
        }
      ]
    },
    {
      "cell_type": "code",
      "metadata": {
        "colab": {
          "base_uri": "https://localhost:8080/"
        },
        "id": "pisd26FeSY75",
        "outputId": "4fa020c6-ab6f-430e-df67-b3e86daf10a6"
      },
      "source": [
        "x_df"
      ],
      "execution_count": 25,
      "outputs": [
        {
          "output_type": "execute_result",
          "data": {
            "text/plain": [
              "約三至五小時    87\n",
              "約一至三小時    65\n",
              "約五到七小時    45\n",
              "約七小時以上    33\n",
              "不到一小時      5\n",
              "Name: 3. 請問您平均一天會花多久時間在影音頻道或社群媒體上(如：YouTube、Twitch、Facebook、Instagram等等)?, dtype: int64"
            ]
          },
          "metadata": {
            "tags": []
          },
          "execution_count": 25
        }
      ]
    },
    {
      "cell_type": "code",
      "metadata": {
        "colab": {
          "base_uri": "https://localhost:8080/",
          "height": 352
        },
        "id": "kBkxq1alwODI",
        "outputId": "027de2ce-7115-4f0d-b771-898c8f0ad6ed"
      },
      "source": [
        "j_df = pd.DataFrame()\n",
        "j_df['About one to three hours'] = df[df['3. 請問您平均一天會花多久時間在影音頻道或社群媒體上(如：YouTube、Twitch、Facebook、Instagram等等)?'] == '約一至三小時']['8. 若無論是否為您喜歡的YouTuber影片，您認為某產品廠商請YouTuber拍業配影片是助於商品的銷售或行銷的嗎?'].value_counts()\n",
        "j_df['Less than an hour'] = df[df['3. 請問您平均一天會花多久時間在影音頻道或社群媒體上(如：YouTube、Twitch、Facebook、Instagram等等)?'] == '不到一小時']['8. 若無論是否為您喜歡的YouTuber影片，您認為某產品廠商請YouTuber拍業配影片是助於商品的銷售或行銷的嗎?'].value_counts()\n",
        "j_df['About three to five hours'] = df[df['3. 請問您平均一天會花多久時間在影音頻道或社群媒體上(如：YouTube、Twitch、Facebook、Instagram等等)?'] == '約三至五小時']['8. 若無論是否為您喜歡的YouTuber影片，您認為某產品廠商請YouTuber拍業配影片是助於商品的銷售或行銷的嗎?'].value_counts()\n",
        "j_df['About five to seven hours'] = df[df['3. 請問您平均一天會花多久時間在影音頻道或社群媒體上(如：YouTube、Twitch、Facebook、Instagram等等)?'] == '約五到七小時']['8. 若無論是否為您喜歡的YouTuber影片，您認為某產品廠商請YouTuber拍業配影片是助於商品的銷售或行銷的嗎?'].value_counts()\n",
        "j_df['About seven hours or more'] = df[df['3. 請問您平均一天會花多久時間在影音頻道或社群媒體上(如：YouTube、Twitch、Facebook、Instagram等等)?'] == '約七小時以上']['8. 若無論是否為您喜歡的YouTuber影片，您認為某產品廠商請YouTuber拍業配影片是助於商品的銷售或行銷的嗎?'].value_counts()\n",
        "\n",
        "j_df.plot.bar(title = 'Look at purchase intentions based on user level')\n",
        "plt.ylabel(\"數量\",fontproperties=myfont) \n",
        "plt.xlabel(\"購買意願\",fontproperties=myfont) \n",
        "plt.xticks(fontsize=20,fontproperties=myfont)\n",
        "\n",
        "#plt.savefig('Look at purchase intentions based on user level.png')"
      ],
      "execution_count": 26,
      "outputs": [
        {
          "output_type": "execute_result",
          "data": {
            "text/plain": [
              "(array([0, 1, 2, 3, 4]), <a list of 5 Text major ticklabel objects>)"
            ]
          },
          "metadata": {
            "tags": []
          },
          "execution_count": 26
        },
        {
          "output_type": "display_data",
          "data": {
            "image/png": "[encoded data removed]",
            "text/plain": [
              "<Figure size 432x288 with 1 Axes>"
            ]
          },
          "metadata": {
            "tags": [],
            "needs_background": "light"
          }
        }
      ]
    },
    {
      "cell_type": "code",
      "metadata": {
        "colab": {
          "base_uri": "https://localhost:8080/",
          "height": 203
        },
        "id": "5mpxG-B5Sa3j",
        "outputId": "92526bcf-b3ab-4396-a602-aaef219480e5"
      },
      "source": [
        "j_df"
      ],
      "execution_count": 27,
      "outputs": [
        {
          "output_type": "execute_result",
          "data": {
            "text/html": [
              "<div>\n",
              "<style scoped>\n",
              "    .dataframe tbody tr th:only-of-type {\n",
              "        vertical-align: middle;\n",
              "    }\n",
              "\n",
              "    .dataframe tbody tr th {\n",
              "        vertical-align: top;\n",
              "    }\n",
              "\n",
              "    .dataframe thead th {\n",
              "        text-align: right;\n",
              "    }\n",
              "</style>\n",
              "<table border=\"1\" class=\"dataframe\">\n",
              "  <thead>\n",
              "    <tr style=\"text-align: right;\">\n",
              "      <th></th>\n",
              "      <th>About one to three hours</th>\n",
              "      <th>Less than an hour</th>\n",
              "      <th>About three to five hours</th>\n",
              "      <th>About five to seven hours</th>\n",
              "      <th>About seven hours or more</th>\n",
              "    </tr>\n",
              "  </thead>\n",
              "  <tbody>\n",
              "    <tr>\n",
              "      <th>認同</th>\n",
              "      <td>41</td>\n",
              "      <td>3.0</td>\n",
              "      <td>47</td>\n",
              "      <td>37.0</td>\n",
              "      <td>24.0</td>\n",
              "    </tr>\n",
              "    <tr>\n",
              "      <th>沒意見</th>\n",
              "      <td>11</td>\n",
              "      <td>1.0</td>\n",
              "      <td>20</td>\n",
              "      <td>4.0</td>\n",
              "      <td>4.0</td>\n",
              "    </tr>\n",
              "    <tr>\n",
              "      <th>完全認同</th>\n",
              "      <td>7</td>\n",
              "      <td>NaN</td>\n",
              "      <td>18</td>\n",
              "      <td>3.0</td>\n",
              "      <td>4.0</td>\n",
              "    </tr>\n",
              "    <tr>\n",
              "      <th>不認同</th>\n",
              "      <td>4</td>\n",
              "      <td>NaN</td>\n",
              "      <td>1</td>\n",
              "      <td>NaN</td>\n",
              "      <td>1.0</td>\n",
              "    </tr>\n",
              "    <tr>\n",
              "      <th>完全不認同</th>\n",
              "      <td>2</td>\n",
              "      <td>1.0</td>\n",
              "      <td>1</td>\n",
              "      <td>1.0</td>\n",
              "      <td>NaN</td>\n",
              "    </tr>\n",
              "  </tbody>\n",
              "</table>\n",
              "</div>"
            ],
            "text/plain": [
              "       About one to three hours  ...  About seven hours or more\n",
              "認同                           41  ...                       24.0\n",
              "沒意見                          11  ...                        4.0\n",
              "完全認同                          7  ...                        4.0\n",
              "不認同                           4  ...                        1.0\n",
              "完全不認同                         2  ...                        NaN\n",
              "\n",
              "[5 rows x 5 columns]"
            ]
          },
          "metadata": {
            "tags": []
          },
          "execution_count": 27
        }
      ]
    },
    {
      "cell_type": "code",
      "metadata": {
        "colab": {
          "base_uri": "https://localhost:8080/",
          "height": 381
        },
        "id": "O7Y654SVAPnV",
        "outputId": "0d83ed29-6af0-4483-e9f4-1f481a608833"
      },
      "source": [
        "j_df = pd.DataFrame()\n",
        "j_df['About three to five hours'] = df[df['3. 請問您平均一天會花多久時間在影音頻道或社群媒體上(如：YouTube、Twitch、Facebook、Instagram等等)?'] == '約三至五小時']['7. 您認為在您喜歡的YouTuber頻道上出現業配影片，會有什麼樣的感受?'].value_counts()\n",
        "j_df['About one to three hours'] = df[df['3. 請問您平均一天會花多久時間在影音頻道或社群媒體上(如：YouTube、Twitch、Facebook、Instagram等等)?'] == '約一至三小時']['7. 您認為在您喜歡的YouTuber頻道上出現業配影片，會有什麼樣的感受?'].value_counts()\n",
        "j_df['Less than an hour'] = df[df['3. 請問您平均一天會花多久時間在影音頻道或社群媒體上(如：YouTube、Twitch、Facebook、Instagram等等)?'] == '不到一小時']['7. 您認為在您喜歡的YouTuber頻道上出現業配影片，會有什麼樣的感受?'].value_counts()\n",
        "j_df['About five to seven hours'] = df[df['3. 請問您平均一天會花多久時間在影音頻道或社群媒體上(如：YouTube、Twitch、Facebook、Instagram等等)?'] == '約五到七小時']['7. 您認為在您喜歡的YouTuber頻道上出現業配影片，會有什麼樣的感受?'].value_counts()\n",
        "j_df['About seven hours or more'] = df[df['3. 請問您平均一天會花多久時間在影音頻道或社群媒體上(如：YouTube、Twitch、Facebook、Instagram等等)?'] == '約七小時以上']['7. 您認為在您喜歡的YouTuber頻道上出現業配影片，會有什麼樣的感受?'].value_counts()\n",
        "\n",
        "j_df.plot.bar(title = 'According to the user level to see the industry distribution experience')\n",
        "plt.ylabel(\"數量\",fontproperties=myfont)  \n",
        "plt.xticks(fontsize=20,fontproperties=myfont)\n",
        "\n",
        "plt.savefig('According to the user level to see the industry distribution experience',dpi=100)"
      ],
      "execution_count": 28,
      "outputs": [
        {
          "output_type": "display_data",
          "data": {
            "image/png": "[encoded data removed]",
            "text/plain": [
              "<Figure size 432x288 with 1 Axes>"
            ]
          },
          "metadata": {
            "tags": [],
            "needs_background": "light"
          }
        }
      ]
    },
    {
      "cell_type": "code",
      "metadata": {
        "colab": {
          "base_uri": "https://localhost:8080/",
          "height": 237
        },
        "id": "QrTy7r9tSgai",
        "outputId": "0dc10485-93a4-4801-80d1-40d5347e3681"
      },
      "source": [
        "j_df"
      ],
      "execution_count": 29,
      "outputs": [
        {
          "output_type": "execute_result",
          "data": {
            "text/html": [
              "<div>\n",
              "<style scoped>\n",
              "    .dataframe tbody tr th:only-of-type {\n",
              "        vertical-align: middle;\n",
              "    }\n",
              "\n",
              "    .dataframe tbody tr th {\n",
              "        vertical-align: top;\n",
              "    }\n",
              "\n",
              "    .dataframe thead th {\n",
              "        text-align: right;\n",
              "    }\n",
              "</style>\n",
              "<table border=\"1\" class=\"dataframe\">\n",
              "  <thead>\n",
              "    <tr style=\"text-align: right;\">\n",
              "      <th></th>\n",
              "      <th>About three to five hours</th>\n",
              "      <th>About one to three hours</th>\n",
              "      <th>Less than an hour</th>\n",
              "      <th>About five to seven hours</th>\n",
              "      <th>About seven hours or more</th>\n",
              "    </tr>\n",
              "  </thead>\n",
              "  <tbody>\n",
              "    <tr>\n",
              "      <th>無感</th>\n",
              "      <td>46</td>\n",
              "      <td>38.0</td>\n",
              "      <td>1.0</td>\n",
              "      <td>26</td>\n",
              "      <td>13.0</td>\n",
              "    </tr>\n",
              "    <tr>\n",
              "      <th>喜歡或可接受</th>\n",
              "      <td>31</td>\n",
              "      <td>14.0</td>\n",
              "      <td>2.0</td>\n",
              "      <td>15</td>\n",
              "      <td>15.0</td>\n",
              "    </tr>\n",
              "    <tr>\n",
              "      <th>不喜歡</th>\n",
              "      <td>6</td>\n",
              "      <td>11.0</td>\n",
              "      <td>1.0</td>\n",
              "      <td>1</td>\n",
              "      <td>3.0</td>\n",
              "    </tr>\n",
              "    <tr>\n",
              "      <th>非常喜歡或完全可以接受</th>\n",
              "      <td>3</td>\n",
              "      <td>2.0</td>\n",
              "      <td>NaN</td>\n",
              "      <td>1</td>\n",
              "      <td>NaN</td>\n",
              "    </tr>\n",
              "    <tr>\n",
              "      <th>非常不喜歡</th>\n",
              "      <td>1</td>\n",
              "      <td>NaN</td>\n",
              "      <td>1.0</td>\n",
              "      <td>2</td>\n",
              "      <td>2.0</td>\n",
              "    </tr>\n",
              "  </tbody>\n",
              "</table>\n",
              "</div>"
            ],
            "text/plain": [
              "             About three to five hours  ...  About seven hours or more\n",
              "無感                                  46  ...                       13.0\n",
              "喜歡或可接受                              31  ...                       15.0\n",
              "不喜歡                                  6  ...                        3.0\n",
              "非常喜歡或完全可以接受                          3  ...                        NaN\n",
              "非常不喜歡                                1  ...                        2.0\n",
              "\n",
              "[5 rows x 5 columns]"
            ]
          },
          "metadata": {
            "tags": []
          },
          "execution_count": 29
        }
      ]
    },
    {
      "cell_type": "code",
      "metadata": {
        "colab": {
          "base_uri": "https://localhost:8080/",
          "height": 328
        },
        "id": "CzECrU5-Cp5O",
        "outputId": "2c105a35-e4db-49f2-a95c-cad74c041fbb"
      },
      "source": [
        "j_df = pd.DataFrame()\n",
        "j_df['About three to five hours'] = df[df['3. 請問您平均一天會花多久時間在影音頻道或社群媒體上(如：YouTube、Twitch、Facebook、Instagram等等)?'] == '約三至五小時']['9. 若無論是否為您喜歡的YouTuber影片 ，您認為對觀看者而言，對某接拍業配影片的YouTuber的喜好程度與其宣傳效益或商品銷售量是成正比的嗎?'].value_counts()\n",
        "j_df['About one to three hours'] = df[df['3. 請問您平均一天會花多久時間在影音頻道或社群媒體上(如：YouTube、Twitch、Facebook、Instagram等等)?'] == '約一至三小時']['9. 若無論是否為您喜歡的YouTuber影片 ，您認為對觀看者而言，對某接拍業配影片的YouTuber的喜好程度與其宣傳效益或商品銷售量是成正比的嗎?'].value_counts()\n",
        "j_df['Less than an hour'] = df[df['3. 請問您平均一天會花多久時間在影音頻道或社群媒體上(如：YouTube、Twitch、Facebook、Instagram等等)?'] == '不到一小時']['9. 若無論是否為您喜歡的YouTuber影片 ，您認為對觀看者而言，對某接拍業配影片的YouTuber的喜好程度與其宣傳效益或商品銷售量是成正比的嗎?'].value_counts()\n",
        "j_df['About five to seven hours'] = df[df['3. 請問您平均一天會花多久時間在影音頻道或社群媒體上(如：YouTube、Twitch、Facebook、Instagram等等)?'] == '約五到七小時']['9. 若無論是否為您喜歡的YouTuber影片 ，您認為對觀看者而言，對某接拍業配影片的YouTuber的喜好程度與其宣傳效益或商品銷售量是成正比的嗎?'].value_counts()\n",
        "j_df['About seven hours or more'] = df[df['3. 請問您平均一天會花多久時間在影音頻道或社群媒體上(如：YouTube、Twitch、Facebook、Instagram等等)?'] == '約七小時以上']['9. 若無論是否為您喜歡的YouTuber影片 ，您認為對觀看者而言，對某接拍業配影片的YouTuber的喜好程度與其宣傳效益或商品銷售量是成正比的嗎?'].value_counts()\n",
        "\n",
        "j_df.plot.bar(title = '9')\n",
        "plt.ylabel(\"數量\",fontproperties=myfont)  \n",
        "plt.xticks(fontsize=20,fontproperties=myfont)\n",
        "\n",
        "#plt.savefig('According to the user level to see the industry distribution experience',dpi=100)"
      ],
      "execution_count": 30,
      "outputs": [
        {
          "output_type": "execute_result",
          "data": {
            "text/plain": [
              "(array([0, 1, 2, 3, 4]), <a list of 5 Text major ticklabel objects>)"
            ]
          },
          "metadata": {
            "tags": []
          },
          "execution_count": 30
        },
        {
          "output_type": "display_data",
          "data": {
            "image/png": "[encoded data removed]",
            "text/plain": [
              "<Figure size 432x288 with 1 Axes>"
            ]
          },
          "metadata": {
            "tags": [],
            "needs_background": "light"
          }
        }
      ]
    },
    {
      "cell_type": "code",
      "metadata": {
        "colab": {
          "base_uri": "https://localhost:8080/",
          "height": 203
        },
        "id": "ll_YlfBQSif6",
        "outputId": "dbc77ba9-8b6d-4128-9f4f-65dbc78f907c"
      },
      "source": [
        "j_df"
      ],
      "execution_count": 31,
      "outputs": [
        {
          "output_type": "execute_result",
          "data": {
            "text/html": [
              "<div>\n",
              "<style scoped>\n",
              "    .dataframe tbody tr th:only-of-type {\n",
              "        vertical-align: middle;\n",
              "    }\n",
              "\n",
              "    .dataframe tbody tr th {\n",
              "        vertical-align: top;\n",
              "    }\n",
              "\n",
              "    .dataframe thead th {\n",
              "        text-align: right;\n",
              "    }\n",
              "</style>\n",
              "<table border=\"1\" class=\"dataframe\">\n",
              "  <thead>\n",
              "    <tr style=\"text-align: right;\">\n",
              "      <th></th>\n",
              "      <th>About three to five hours</th>\n",
              "      <th>About one to three hours</th>\n",
              "      <th>Less than an hour</th>\n",
              "      <th>About five to seven hours</th>\n",
              "      <th>About seven hours or more</th>\n",
              "    </tr>\n",
              "  </thead>\n",
              "  <tbody>\n",
              "    <tr>\n",
              "      <th>是</th>\n",
              "      <td>41</td>\n",
              "      <td>27.0</td>\n",
              "      <td>3.0</td>\n",
              "      <td>22</td>\n",
              "      <td>12.0</td>\n",
              "    </tr>\n",
              "    <tr>\n",
              "      <th>沒意見</th>\n",
              "      <td>30</td>\n",
              "      <td>26.0</td>\n",
              "      <td>NaN</td>\n",
              "      <td>9</td>\n",
              "      <td>14.0</td>\n",
              "    </tr>\n",
              "    <tr>\n",
              "      <th>不是</th>\n",
              "      <td>14</td>\n",
              "      <td>11.0</td>\n",
              "      <td>2.0</td>\n",
              "      <td>7</td>\n",
              "      <td>6.0</td>\n",
              "    </tr>\n",
              "    <tr>\n",
              "      <th>一定是</th>\n",
              "      <td>1</td>\n",
              "      <td>NaN</td>\n",
              "      <td>NaN</td>\n",
              "      <td>4</td>\n",
              "      <td>1.0</td>\n",
              "    </tr>\n",
              "    <tr>\n",
              "      <th>完全不是</th>\n",
              "      <td>1</td>\n",
              "      <td>1.0</td>\n",
              "      <td>NaN</td>\n",
              "      <td>3</td>\n",
              "      <td>NaN</td>\n",
              "    </tr>\n",
              "  </tbody>\n",
              "</table>\n",
              "</div>"
            ],
            "text/plain": [
              "      About three to five hours  ...  About seven hours or more\n",
              "是                            41  ...                       12.0\n",
              "沒意見                          30  ...                       14.0\n",
              "不是                           14  ...                        6.0\n",
              "一定是                           1  ...                        1.0\n",
              "完全不是                          1  ...                        NaN\n",
              "\n",
              "[5 rows x 5 columns]"
            ]
          },
          "metadata": {
            "tags": []
          },
          "execution_count": 31
        }
      ]
    },
    {
      "cell_type": "code",
      "metadata": {
        "colab": {
          "base_uri": "https://localhost:8080/",
          "height": 338
        },
        "id": "RqxNsHURDOlM",
        "outputId": "3cfc7443-9d40-4653-d900-b88bbbd0bda4"
      },
      "source": [
        "j_df = pd.DataFrame()\n",
        "j_df['About three to five hours'] = df[df['3. 請問您平均一天會花多久時間在影音頻道或社群媒體上(如：YouTube、Twitch、Facebook、Instagram等等)?'] == '約三至五小時']['10. 若一YouTube影片為業配影片，您認為對於拍攝此影片的YouTuber的名氣大小(以點閱數來看)與其宣傳效益或商品銷售量是否成正比?'].value_counts()\n",
        "j_df['About one to three hours'] = df[df['3. 請問您平均一天會花多久時間在影音頻道或社群媒體上(如：YouTube、Twitch、Facebook、Instagram等等)?'] == '約一至三小時']['10. 若一YouTube影片為業配影片，您認為對於拍攝此影片的YouTuber的名氣大小(以點閱數來看)與其宣傳效益或商品銷售量是否成正比?'].value_counts()\n",
        "j_df['Less than an hour'] = df[df['3. 請問您平均一天會花多久時間在影音頻道或社群媒體上(如：YouTube、Twitch、Facebook、Instagram等等)?'] == '不到一小時']['10. 若一YouTube影片為業配影片，您認為對於拍攝此影片的YouTuber的名氣大小(以點閱數來看)與其宣傳效益或商品銷售量是否成正比?'].value_counts()\n",
        "j_df['About five to seven hours'] = df[df['3. 請問您平均一天會花多久時間在影音頻道或社群媒體上(如：YouTube、Twitch、Facebook、Instagram等等)?'] == '約五到七小時']['10. 若一YouTube影片為業配影片，您認為對於拍攝此影片的YouTuber的名氣大小(以點閱數來看)與其宣傳效益或商品銷售量是否成正比?'].value_counts()\n",
        "j_df['About seven hours or more'] = df[df['3. 請問您平均一天會花多久時間在影音頻道或社群媒體上(如：YouTube、Twitch、Facebook、Instagram等等)?'] == '約七小時以上']['10. 若一YouTube影片為業配影片，您認為對於拍攝此影片的YouTuber的名氣大小(以點閱數來看)與其宣傳效益或商品銷售量是否成正比?'].value_counts()\n",
        "\n",
        "j_df.plot.bar(title = '10')\n",
        "plt.ylabel(\"數量\",fontproperties=myfont)  \n",
        "plt.xticks(fontsize=20,fontproperties=myfont)\n",
        "\n",
        "#plt.savefig('According to the user level to see the industry distribution experience',dpi=100)"
      ],
      "execution_count": 32,
      "outputs": [
        {
          "output_type": "execute_result",
          "data": {
            "text/plain": [
              "(array([0, 1, 2, 3, 4]), <a list of 5 Text major ticklabel objects>)"
            ]
          },
          "metadata": {
            "tags": []
          },
          "execution_count": 32
        },
        {
          "output_type": "display_data",
          "data": {
            "image/png": "[encoded data removed]",
            "text/plain": [
              "<Figure size 432x288 with 1 Axes>"
            ]
          },
          "metadata": {
            "tags": [],
            "needs_background": "light"
          }
        }
      ]
    },
    {
      "cell_type": "code",
      "metadata": {
        "colab": {
          "base_uri": "https://localhost:8080/",
          "height": 203
        },
        "id": "O5L2j7fSSj5j",
        "outputId": "48ca0ef7-19b3-4e68-b4eb-b9296ecada2d"
      },
      "source": [
        "j_df"
      ],
      "execution_count": 33,
      "outputs": [
        {
          "output_type": "execute_result",
          "data": {
            "text/html": [
              "<div>\n",
              "<style scoped>\n",
              "    .dataframe tbody tr th:only-of-type {\n",
              "        vertical-align: middle;\n",
              "    }\n",
              "\n",
              "    .dataframe tbody tr th {\n",
              "        vertical-align: top;\n",
              "    }\n",
              "\n",
              "    .dataframe thead th {\n",
              "        text-align: right;\n",
              "    }\n",
              "</style>\n",
              "<table border=\"1\" class=\"dataframe\">\n",
              "  <thead>\n",
              "    <tr style=\"text-align: right;\">\n",
              "      <th></th>\n",
              "      <th>About three to five hours</th>\n",
              "      <th>About one to three hours</th>\n",
              "      <th>Less than an hour</th>\n",
              "      <th>About five to seven hours</th>\n",
              "      <th>About seven hours or more</th>\n",
              "    </tr>\n",
              "  </thead>\n",
              "  <tbody>\n",
              "    <tr>\n",
              "      <th>符合</th>\n",
              "      <td>46</td>\n",
              "      <td>36.0</td>\n",
              "      <td>3.0</td>\n",
              "      <td>25.0</td>\n",
              "      <td>15.0</td>\n",
              "    </tr>\n",
              "    <tr>\n",
              "      <th>普通</th>\n",
              "      <td>27</td>\n",
              "      <td>24.0</td>\n",
              "      <td>1.0</td>\n",
              "      <td>14.0</td>\n",
              "      <td>14.0</td>\n",
              "    </tr>\n",
              "    <tr>\n",
              "      <th>完全符合</th>\n",
              "      <td>7</td>\n",
              "      <td>1.0</td>\n",
              "      <td>NaN</td>\n",
              "      <td>5.0</td>\n",
              "      <td>4.0</td>\n",
              "    </tr>\n",
              "    <tr>\n",
              "      <th>不符合</th>\n",
              "      <td>6</td>\n",
              "      <td>4.0</td>\n",
              "      <td>1.0</td>\n",
              "      <td>1.0</td>\n",
              "      <td>NaN</td>\n",
              "    </tr>\n",
              "    <tr>\n",
              "      <th>完全不符合</th>\n",
              "      <td>1</td>\n",
              "      <td>NaN</td>\n",
              "      <td>NaN</td>\n",
              "      <td>NaN</td>\n",
              "      <td>NaN</td>\n",
              "    </tr>\n",
              "  </tbody>\n",
              "</table>\n",
              "</div>"
            ],
            "text/plain": [
              "       About three to five hours  ...  About seven hours or more\n",
              "符合                            46  ...                       15.0\n",
              "普通                            27  ...                       14.0\n",
              "完全符合                           7  ...                        4.0\n",
              "不符合                            6  ...                        NaN\n",
              "完全不符合                          1  ...                        NaN\n",
              "\n",
              "[5 rows x 5 columns]"
            ]
          },
          "metadata": {
            "tags": []
          },
          "execution_count": 33
        }
      ]
    },
    {
      "cell_type": "code",
      "metadata": {
        "colab": {
          "base_uri": "https://localhost:8080/",
          "height": 328
        },
        "id": "-VUIYfWSDvd7",
        "outputId": "e536607b-d8d4-4387-8908-bd389f5e2598"
      },
      "source": [
        "j_df = pd.DataFrame()\n",
        "j_df['About three to five hours'] = df[df['3. 請問您平均一天會花多久時間在影音頻道或社群媒體上(如：YouTube、Twitch、Facebook、Instagram等等)?'] == '約三至五小時']['11. 您認為對於拍攝某業配影片的YouTuber其影片風格定位與其商品的類型相符或接近，會使宣傳效益或商品銷售量提高嗎? (以下為正反兩例：一美妝YouTuber拍攝美妝品業配；一美妝YouTuber拍攝某款手遊業配)'].value_counts()\n",
        "j_df['About one to three hours'] = df[df['3. 請問您平均一天會花多久時間在影音頻道或社群媒體上(如：YouTube、Twitch、Facebook、Instagram等等)?'] == '約一至三小時']['11. 您認為對於拍攝某業配影片的YouTuber其影片風格定位與其商品的類型相符或接近，會使宣傳效益或商品銷售量提高嗎? (以下為正反兩例：一美妝YouTuber拍攝美妝品業配；一美妝YouTuber拍攝某款手遊業配)'].value_counts()\n",
        "j_df['Less than an hour'] = df[df['3. 請問您平均一天會花多久時間在影音頻道或社群媒體上(如：YouTube、Twitch、Facebook、Instagram等等)?'] == '不到一小時']['11. 您認為對於拍攝某業配影片的YouTuber其影片風格定位與其商品的類型相符或接近，會使宣傳效益或商品銷售量提高嗎? (以下為正反兩例：一美妝YouTuber拍攝美妝品業配；一美妝YouTuber拍攝某款手遊業配)'].value_counts()\n",
        "j_df['About five to seven hours'] = df[df['3. 請問您平均一天會花多久時間在影音頻道或社群媒體上(如：YouTube、Twitch、Facebook、Instagram等等)?'] == '約五到七小時']['11. 您認為對於拍攝某業配影片的YouTuber其影片風格定位與其商品的類型相符或接近，會使宣傳效益或商品銷售量提高嗎? (以下為正反兩例：一美妝YouTuber拍攝美妝品業配；一美妝YouTuber拍攝某款手遊業配)'].value_counts()\n",
        "j_df['About seven hours or more'] = df[df['3. 請問您平均一天會花多久時間在影音頻道或社群媒體上(如：YouTube、Twitch、Facebook、Instagram等等)?'] == '約七小時以上']['11. 您認為對於拍攝某業配影片的YouTuber其影片風格定位與其商品的類型相符或接近，會使宣傳效益或商品銷售量提高嗎? (以下為正反兩例：一美妝YouTuber拍攝美妝品業配；一美妝YouTuber拍攝某款手遊業配)'].value_counts()\n",
        "\n",
        "j_df.plot.bar(title = '11')\n",
        "plt.ylabel(\"數量\",fontproperties=myfont)  \n",
        "plt.xticks(fontsize=20,fontproperties=myfont)\n",
        "\n",
        "#plt.savefig('According to the user level to see the industry distribution experience',dpi=100)"
      ],
      "execution_count": 34,
      "outputs": [
        {
          "output_type": "execute_result",
          "data": {
            "text/plain": [
              "(array([0, 1, 2, 3, 4]), <a list of 5 Text major ticklabel objects>)"
            ]
          },
          "metadata": {
            "tags": []
          },
          "execution_count": 34
        },
        {
          "output_type": "display_data",
          "data": {
            "image/png": "[encoded data removed]",
            "text/plain": [
              "<Figure size 432x288 with 1 Axes>"
            ]
          },
          "metadata": {
            "tags": [],
            "needs_background": "light"
          }
        }
      ]
    },
    {
      "cell_type": "code",
      "metadata": {
        "colab": {
          "base_uri": "https://localhost:8080/",
          "height": 203
        },
        "id": "OECJIFYsSla5",
        "outputId": "f77cebd6-b4a1-40be-ff32-bdf9490ff711"
      },
      "source": [
        "j_df"
      ],
      "execution_count": 35,
      "outputs": [
        {
          "output_type": "execute_result",
          "data": {
            "text/html": [
              "<div>\n",
              "<style scoped>\n",
              "    .dataframe tbody tr th:only-of-type {\n",
              "        vertical-align: middle;\n",
              "    }\n",
              "\n",
              "    .dataframe tbody tr th {\n",
              "        vertical-align: top;\n",
              "    }\n",
              "\n",
              "    .dataframe thead th {\n",
              "        text-align: right;\n",
              "    }\n",
              "</style>\n",
              "<table border=\"1\" class=\"dataframe\">\n",
              "  <thead>\n",
              "    <tr style=\"text-align: right;\">\n",
              "      <th></th>\n",
              "      <th>About three to five hours</th>\n",
              "      <th>About one to three hours</th>\n",
              "      <th>Less than an hour</th>\n",
              "      <th>About five to seven hours</th>\n",
              "      <th>About seven hours or more</th>\n",
              "    </tr>\n",
              "  </thead>\n",
              "  <tbody>\n",
              "    <tr>\n",
              "      <th>可能</th>\n",
              "      <td>46</td>\n",
              "      <td>37.0</td>\n",
              "      <td>5.0</td>\n",
              "      <td>18.0</td>\n",
              "      <td>13.0</td>\n",
              "    </tr>\n",
              "    <tr>\n",
              "      <th>極有可能</th>\n",
              "      <td>20</td>\n",
              "      <td>11.0</td>\n",
              "      <td>NaN</td>\n",
              "      <td>16.0</td>\n",
              "      <td>14.0</td>\n",
              "    </tr>\n",
              "    <tr>\n",
              "      <th>沒想法</th>\n",
              "      <td>15</td>\n",
              "      <td>14.0</td>\n",
              "      <td>NaN</td>\n",
              "      <td>6.0</td>\n",
              "      <td>3.0</td>\n",
              "    </tr>\n",
              "    <tr>\n",
              "      <th>不太可能</th>\n",
              "      <td>5</td>\n",
              "      <td>3.0</td>\n",
              "      <td>NaN</td>\n",
              "      <td>5.0</td>\n",
              "      <td>3.0</td>\n",
              "    </tr>\n",
              "    <tr>\n",
              "      <th>極不可能</th>\n",
              "      <td>1</td>\n",
              "      <td>NaN</td>\n",
              "      <td>NaN</td>\n",
              "      <td>NaN</td>\n",
              "      <td>NaN</td>\n",
              "    </tr>\n",
              "  </tbody>\n",
              "</table>\n",
              "</div>"
            ],
            "text/plain": [
              "      About three to five hours  ...  About seven hours or more\n",
              "可能                           46  ...                       13.0\n",
              "極有可能                         20  ...                       14.0\n",
              "沒想法                          15  ...                        3.0\n",
              "不太可能                          5  ...                        3.0\n",
              "極不可能                          1  ...                        NaN\n",
              "\n",
              "[5 rows x 5 columns]"
            ]
          },
          "metadata": {
            "tags": []
          },
          "execution_count": 35
        }
      ]
    },
    {
      "cell_type": "markdown",
      "metadata": {
        "id": "2K5syCkcEY8r"
      },
      "source": [
        "cd ef"
      ]
    },
    {
      "cell_type": "code",
      "metadata": {
        "colab": {
          "base_uri": "https://localhost:8080/",
          "height": 348
        },
        "id": "GDrKEd3nE79y",
        "outputId": "7daba2df-d38c-48f6-a6e2-e4cb4b6c6403"
      },
      "source": [
        "j_df = pd.DataFrame()\n",
        "j_df['About three to five hours'] = df[df['3. 請問您平均一天會花多久時間在影音頻道或社群媒體上(如：YouTube、Twitch、Facebook、Instagram等等)?'] == '約三至五小時']['4. 請問您在瀏覽或收看影音影片時，會有固定瀏覽/收看的網紅或頻道主嗎?'].value_counts()\n",
        "j_df['About one to three hours'] = df[df['3. 請問您平均一天會花多久時間在影音頻道或社群媒體上(如：YouTube、Twitch、Facebook、Instagram等等)?'] == '約一至三小時']['4. 請問您在瀏覽或收看影音影片時，會有固定瀏覽/收看的網紅或頻道主嗎?'].value_counts()\n",
        "j_df['Less than an hour'] = df[df['3. 請問您平均一天會花多久時間在影音頻道或社群媒體上(如：YouTube、Twitch、Facebook、Instagram等等)?'] == '不到一小時']['4. 請問您在瀏覽或收看影音影片時，會有固定瀏覽/收看的網紅或頻道主嗎?'].value_counts()\n",
        "j_df['About five to seven hours'] = df[df['3. 請問您平均一天會花多久時間在影音頻道或社群媒體上(如：YouTube、Twitch、Facebook、Instagram等等)?'] == '約五到七小時']['4. 請問您在瀏覽或收看影音影片時，會有固定瀏覽/收看的網紅或頻道主嗎?'].value_counts()\n",
        "j_df['About seven hours or more'] = df[df['3. 請問您平均一天會花多久時間在影音頻道或社群媒體上(如：YouTube、Twitch、Facebook、Instagram等等)?'] == '約七小時以上']['4. 請問您在瀏覽或收看影音影片時，會有固定瀏覽/收看的網紅或頻道主嗎?'].value_counts()\n",
        "\n",
        "j_df.plot.bar(title = 'cd')\n",
        "plt.ylabel(\"數量\",fontproperties=myfont)  \n",
        "plt.xticks(fontsize=20,fontproperties=myfont)\n",
        "\n",
        "#plt.savefig('According to the user level to see the industry distribution experience',dpi=100)"
      ],
      "execution_count": 36,
      "outputs": [
        {
          "output_type": "execute_result",
          "data": {
            "text/plain": [
              "(array([0, 1, 2, 3, 4]), <a list of 5 Text major ticklabel objects>)"
            ]
          },
          "metadata": {
            "tags": []
          },
          "execution_count": 36
        },
        {
          "output_type": "display_data",
          "data": {
            "image/png": "[encoded data removed]",
            "text/plain": [
              "<Figure size 432x288 with 1 Axes>"
            ]
          },
          "metadata": {
            "tags": [],
            "needs_background": "light"
          }
        }
      ]
    },
    {
      "cell_type": "code",
      "metadata": {
        "colab": {
          "base_uri": "https://localhost:8080/",
          "height": 203
        },
        "id": "0ExIXTaaSm8b",
        "outputId": "78bae552-452f-424e-ed57-caefb5c5d73b"
      },
      "source": [
        "j_df"
      ],
      "execution_count": 37,
      "outputs": [
        {
          "output_type": "execute_result",
          "data": {
            "text/html": [
              "<div>\n",
              "<style scoped>\n",
              "    .dataframe tbody tr th:only-of-type {\n",
              "        vertical-align: middle;\n",
              "    }\n",
              "\n",
              "    .dataframe tbody tr th {\n",
              "        vertical-align: top;\n",
              "    }\n",
              "\n",
              "    .dataframe thead th {\n",
              "        text-align: right;\n",
              "    }\n",
              "</style>\n",
              "<table border=\"1\" class=\"dataframe\">\n",
              "  <thead>\n",
              "    <tr style=\"text-align: right;\">\n",
              "      <th></th>\n",
              "      <th>About three to five hours</th>\n",
              "      <th>About one to three hours</th>\n",
              "      <th>Less than an hour</th>\n",
              "      <th>About five to seven hours</th>\n",
              "      <th>About seven hours or more</th>\n",
              "    </tr>\n",
              "  </thead>\n",
              "  <tbody>\n",
              "    <tr>\n",
              "      <th>有時會有</th>\n",
              "      <td>37</td>\n",
              "      <td>28.0</td>\n",
              "      <td>4.0</td>\n",
              "      <td>19</td>\n",
              "      <td>19.0</td>\n",
              "    </tr>\n",
              "    <tr>\n",
              "      <th>幾乎每次都有</th>\n",
              "      <td>30</td>\n",
              "      <td>23.0</td>\n",
              "      <td>1.0</td>\n",
              "      <td>12</td>\n",
              "      <td>7.0</td>\n",
              "    </tr>\n",
              "    <tr>\n",
              "      <th>每次都有</th>\n",
              "      <td>11</td>\n",
              "      <td>6.0</td>\n",
              "      <td>NaN</td>\n",
              "      <td>7</td>\n",
              "      <td>5.0</td>\n",
              "    </tr>\n",
              "    <tr>\n",
              "      <th>幾乎沒有</th>\n",
              "      <td>7</td>\n",
              "      <td>8.0</td>\n",
              "      <td>NaN</td>\n",
              "      <td>5</td>\n",
              "      <td>2.0</td>\n",
              "    </tr>\n",
              "    <tr>\n",
              "      <th>從來沒有</th>\n",
              "      <td>2</td>\n",
              "      <td>NaN</td>\n",
              "      <td>NaN</td>\n",
              "      <td>2</td>\n",
              "      <td>NaN</td>\n",
              "    </tr>\n",
              "  </tbody>\n",
              "</table>\n",
              "</div>"
            ],
            "text/plain": [
              "        About three to five hours  ...  About seven hours or more\n",
              "有時會有                           37  ...                       19.0\n",
              "幾乎每次都有                         30  ...                        7.0\n",
              "每次都有                           11  ...                        5.0\n",
              "幾乎沒有                            7  ...                        2.0\n",
              "從來沒有                            2  ...                        NaN\n",
              "\n",
              "[5 rows x 5 columns]"
            ]
          },
          "metadata": {
            "tags": []
          },
          "execution_count": 37
        }
      ]
    },
    {
      "cell_type": "code",
      "metadata": {
        "colab": {
          "base_uri": "https://localhost:8080/",
          "height": 424
        },
        "id": "Pj_p15WyFI-f",
        "outputId": "23e5e678-45a9-4de0-ad29-b430e3ec077f"
      },
      "source": [
        "j_df = pd.DataFrame()\n",
        "j_df['life'] = df[df['5. 若以YouTube為主，並將影片分類為生活、搞笑、美食、插畫、遊戲、美妝、知識、其他共八類，您認為您最常收看的頻道屬於哪一類?'] == '生活']['6. 請問您最常收看的種類之頻道主是否經常接拍業配影片?'].value_counts()\n",
        "j_df['Funny'] = df[df['5. 若以YouTube為主，並將影片分類為生活、搞笑、美食、插畫、遊戲、美妝、知識、其他共八類，您認為您最常收看的頻道屬於哪一類?'] == '搞笑']['6. 請問您最常收看的種類之頻道主是否經常接拍業配影片?'].value_counts()\n",
        "j_df['Delicacy'] = df[df['5. 若以YouTube為主，並將影片分類為生活、搞笑、美食、插畫、遊戲、美妝、知識、其他共八類，您認為您最常收看的頻道屬於哪一類?'] == '美食']['6. 請問您最常收看的種類之頻道主是否經常接拍業配影片?'].value_counts()\n",
        "j_df['illustration'] = df[df['5. 若以YouTube為主，並將影片分類為生活、搞笑、美食、插畫、遊戲、美妝、知識、其他共八類，您認為您最常收看的頻道屬於哪一類?'] == '插畫']['6. 請問您最常收看的種類之頻道主是否經常接拍業配影片?'].value_counts()\n",
        "j_df['game'] = df[df['5. 若以YouTube為主，並將影片分類為生活、搞笑、美食、插畫、遊戲、美妝、知識、其他共八類，您認為您最常收看的頻道屬於哪一類?'] == '遊戲']['6. 請問您最常收看的種類之頻道主是否經常接拍業配影片?'].value_counts()\n",
        "j_df['makeups'] = df[df['5. 若以YouTube為主，並將影片分類為生活、搞笑、美食、插畫、遊戲、美妝、知識、其他共八類，您認為您最常收看的頻道屬於哪一類?'] == '美妝']['6. 請問您最常收看的種類之頻道主是否經常接拍業配影片?'].value_counts()\n",
        "j_df['Knowledge'] = df[df['5. 若以YouTube為主，並將影片分類為生活、搞笑、美食、插畫、遊戲、美妝、知識、其他共八類，您認為您最常收看的頻道屬於哪一類?'] == '知識']['6. 請問您最常收看的種類之頻道主是否經常接拍業配影片?'].value_counts()\n",
        "j_df['other'] = df[df['5. 若以YouTube為主，並將影片分類為生活、搞笑、美食、插畫、遊戲、美妝、知識、其他共八類，您認為您最常收看的頻道屬於哪一類?'] == '其他']['6. 請問您最常收看的種類之頻道主是否經常接拍業配影片?'].value_counts()\n",
        "\n",
        "\n",
        "\n",
        "j_df.plot.bar(title = 'ef')\n",
        "plt.ylabel(\"數量\",fontproperties=myfont)  \n",
        "plt.xticks(fontsize=20,fontproperties=myfont)\n",
        "\n",
        "#plt.savefig('According to the user level to see the industry distribution experience',dpi=100)"
      ],
      "execution_count": 15,
      "outputs": [
        {
          "output_type": "execute_result",
          "data": {
            "text/plain": [
              "(array([0, 1, 2, 3, 4]), <a list of 5 Text major ticklabel objects>)"
            ]
          },
          "metadata": {
            "tags": []
          },
          "execution_count": 15
        },
        {
          "output_type": "display_data",
          "data": {
            "image/png": "[encoded data removed]",
            "text/plain": [
              "<Figure size 432x288 with 1 Axes>"
            ]
          },
          "metadata": {
            "tags": [],
            "needs_background": "light"
          }
        }
      ]
    },
    {
      "cell_type": "code",
      "metadata": {
        "colab": {
          "base_uri": "https://localhost:8080/",
          "height": 203
        },
        "id": "yNn6Jt-_SoI0",
        "outputId": "da04bbd8-e197-4358-8aa7-365788e1fe40"
      },
      "source": [
        "j_df"
      ],
      "execution_count": 38,
      "outputs": [
        {
          "output_type": "execute_result",
          "data": {
            "text/html": [
              "<div>\n",
              "<style scoped>\n",
              "    .dataframe tbody tr th:only-of-type {\n",
              "        vertical-align: middle;\n",
              "    }\n",
              "\n",
              "    .dataframe tbody tr th {\n",
              "        vertical-align: top;\n",
              "    }\n",
              "\n",
              "    .dataframe thead th {\n",
              "        text-align: right;\n",
              "    }\n",
              "</style>\n",
              "<table border=\"1\" class=\"dataframe\">\n",
              "  <thead>\n",
              "    <tr style=\"text-align: right;\">\n",
              "      <th></th>\n",
              "      <th>About three to five hours</th>\n",
              "      <th>About one to three hours</th>\n",
              "      <th>Less than an hour</th>\n",
              "      <th>About five to seven hours</th>\n",
              "      <th>About seven hours or more</th>\n",
              "    </tr>\n",
              "  </thead>\n",
              "  <tbody>\n",
              "    <tr>\n",
              "      <th>有時會有</th>\n",
              "      <td>37</td>\n",
              "      <td>28.0</td>\n",
              "      <td>4.0</td>\n",
              "      <td>19</td>\n",
              "      <td>19.0</td>\n",
              "    </tr>\n",
              "    <tr>\n",
              "      <th>幾乎每次都有</th>\n",
              "      <td>30</td>\n",
              "      <td>23.0</td>\n",
              "      <td>1.0</td>\n",
              "      <td>12</td>\n",
              "      <td>7.0</td>\n",
              "    </tr>\n",
              "    <tr>\n",
              "      <th>每次都有</th>\n",
              "      <td>11</td>\n",
              "      <td>6.0</td>\n",
              "      <td>NaN</td>\n",
              "      <td>7</td>\n",
              "      <td>5.0</td>\n",
              "    </tr>\n",
              "    <tr>\n",
              "      <th>幾乎沒有</th>\n",
              "      <td>7</td>\n",
              "      <td>8.0</td>\n",
              "      <td>NaN</td>\n",
              "      <td>5</td>\n",
              "      <td>2.0</td>\n",
              "    </tr>\n",
              "    <tr>\n",
              "      <th>從來沒有</th>\n",
              "      <td>2</td>\n",
              "      <td>NaN</td>\n",
              "      <td>NaN</td>\n",
              "      <td>2</td>\n",
              "      <td>NaN</td>\n",
              "    </tr>\n",
              "  </tbody>\n",
              "</table>\n",
              "</div>"
            ],
            "text/plain": [
              "        About three to five hours  ...  About seven hours or more\n",
              "有時會有                           37  ...                       19.0\n",
              "幾乎每次都有                         30  ...                        7.0\n",
              "每次都有                           11  ...                        5.0\n",
              "幾乎沒有                            7  ...                        2.0\n",
              "從來沒有                            2  ...                        NaN\n",
              "\n",
              "[5 rows x 5 columns]"
            ]
          },
          "metadata": {
            "tags": []
          },
          "execution_count": 38
        }
      ]
    }
  ]
}